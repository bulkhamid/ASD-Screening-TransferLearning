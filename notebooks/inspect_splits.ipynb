{
 "cells": [
  {
   "cell_type": "code",
   "execution_count": 2,
   "id": "f5beb199",
   "metadata": {},
   "outputs": [
    {
     "data": {
      "application/vnd.jupyter.widget-view+json": {
       "model_id": "a4d1f20328814f1b90ac02f1330ddaca",
       "version_major": 2,
       "version_minor": 0
      },
      "text/plain": [
       "VBox(children=(Dropdown(description='Split:', options=('train', 'val', 'test'), value='train'), IntSlider(valu…"
      ]
     },
     "metadata": {},
     "output_type": "display_data"
    },
    {
     "data": {
      "application/vnd.jupyter.widget-view+json": {
       "model_id": "ce6c6f9e06fc44f2a6bf25e19960734f",
       "version_major": 2,
       "version_minor": 0
      },
      "text/plain": [
       "Output()"
      ]
     },
     "metadata": {},
     "output_type": "display_data"
    }
   ],
   "source": [
    "# ── Interactive visual inspection ────────────────────────────────────────────\n",
    "import numpy as np, matplotlib.pyplot as plt\n",
    "import ipywidgets as w\n",
    "from IPython.display import display\n",
    "\n",
    "def show_video(split, vid_idx):\n",
    "    data          = np.load(f\"../data/{split}.npz\", mmap_mode=\"r\")\n",
    "    vids, labels  = data[\"X\"], data[\"y\"]\n",
    "    vid, lab      = vids[vid_idx], labels[vid_idx]\n",
    "    lab_str       = \"Positive\" if lab == 1 else \"Negative\"\n",
    "\n",
    "    fig, axs      = plt.subplots(3,4,figsize=(12,6))\n",
    "    for ax, f in zip(axs.ravel(), np.linspace(0, vid.shape[0]-1, 12, dtype=int)):\n",
    "        ax.imshow(vid[f]);  ax.axis(\"off\");  ax.set_title(f\"t={f}\")\n",
    "    fig.suptitle(f\"{split}  |  video #{vid_idx}  |  {lab_str}\", fontsize=15)\n",
    "    plt.tight_layout();  plt.show()\n",
    "\n",
    "# widgets ────────────────────────────────────────────────────────────────────\n",
    "split_dd = w.Dropdown(options=[\"train\",\"val\",\"test\"], value=\"train\", description=\"Split:\")\n",
    "data0 = np.load(\"../data/train.npz\", mmap_mode=\"r\")\n",
    "vid_sl = w.IntSlider(value=0, min=0, max=len(data0[\"X\"])-1, step=1, description=\"Video:\")\n",
    "\n",
    "def _update_slider(change):\n",
    "    data = np.load(f\"../data/{change['new']}.npz\", mmap_mode=\"r\")\n",
    "    vid_sl.max = len(data[\"X\"])-1\n",
    "split_dd.observe(_update_slider, names=\"value\")\n",
    "\n",
    "ui  = w.VBox([split_dd, vid_sl])\n",
    "out = w.interactive_output(show_video, {\"split\": split_dd, \"vid_idx\": vid_sl})\n",
    "display(ui, out)\n"
   ]
  },
  {
   "cell_type": "code",
   "execution_count": null,
   "id": "f6970154",
   "metadata": {},
   "outputs": [],
   "source": []
  }
 ],
 "metadata": {
  "kernelspec": {
   "display_name": "Python 3 (ipykernel)",
   "language": "python",
   "name": "python3"
  },
  "language_info": {
   "codemirror_mode": {
    "name": "ipython",
    "version": 3
   },
   "file_extension": ".py",
   "mimetype": "text/x-python",
   "name": "python",
   "nbconvert_exporter": "python",
   "pygments_lexer": "ipython3",
   "version": "3.12.3"
  }
 },
 "nbformat": 4,
 "nbformat_minor": 5
}
